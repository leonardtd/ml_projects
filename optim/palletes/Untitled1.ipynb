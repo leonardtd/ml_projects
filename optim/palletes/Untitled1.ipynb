{
 "cells": [
  {
   "cell_type": "code",
   "execution_count": null,
   "id": "822303df-248b-4ef8-a449-243bad0b20c5",
   "metadata": {},
   "outputs": [
    {
     "name": "stdout",
     "output_type": "stream",
     "text": [
      "{1: {'x': 0, 'y': 0, 'z': 0}, 2: {'x': 5, 'y': 2, 'z': 4}}\n"
     ]
    }
   ],
   "source": [
    "# Assume boxes is a list of dictionaries containing box dimensions and their identifiers\n",
    "# boxes = [{\"id\": 1, \"w\": 5, \"h\": 2, \"d\": 4}, {\"id\": 2, \"w\": 3, \"h\": 4, \"d\": 2}, ...]\n",
    "# B_chain = [1, 2, 3, ...] represents the order in which boxes should be placed\n",
    "\n",
    "def calculate_coordinates(boxes, B_chain):\n",
    "    placed_boxes = {}  # To store coordinates of placed boxes: {box_id: {\"x\": x, \"y\": y, \"z\": z}}\n",
    "    \n",
    "    for box_id in B_chain:\n",
    "        box = next(b for b in boxes if b[\"id\"] == box_id)  # Find the box by its id\n",
    "        max_x, max_y, max_z = 0, 0, 0  # Initialize to zero\n",
    "        \n",
    "        # Subsets of packed boxes that affect the current box's position\n",
    "        Px, Py, Pz = [], [], []\n",
    "        \n",
    "        for pb_id, coords in placed_boxes.items():\n",
    "            pb = next(b for b in boxes if b[\"id\"] == pb_id)\n",
    "            \n",
    "            # Logic to populate Px, Py, Pz goes here based on A, B, and C chains.\n",
    "            # In this simplified example, all placed boxes are considered\n",
    "            Px.append(coords[\"x\"] + pb[\"w\"])\n",
    "            Py.append(coords[\"y\"] + pb[\"h\"])\n",
    "            Pz.append(coords[\"z\"] + pb[\"d\"])\n",
    "        \n",
    "        if Px:\n",
    "            max_x = max(0, max(Px))\n",
    "        if Py:\n",
    "            max_y = max(0, max(Py))\n",
    "        if Pz:\n",
    "            max_z = max(0, max(Pz))\n",
    "        \n",
    "        # Place the new box\n",
    "        placed_boxes[box_id] = {\"x\": max_x, \"y\": max_y, \"z\": max_z}\n",
    "        \n",
    "    return placed_boxes\n",
    "\n",
    "# Example usage:\n",
    "boxes = [{\"id\": 1, \"w\": 5, \"h\": 2, \"d\": 4}, {\"id\": 2, \"w\": 3, \"h\": 4, \"d\": 2}]\n",
    "B_chain = [1, 2]\n",
    "result = calculate_coordinates(boxes, B_chain)\n",
    "print(result)\n"
   ]
  },
  {
   "cell_type": "code",
   "execution_count": null,
   "id": "f09a6c16-9674-486b-a343-f5824a2c5e27",
   "metadata": {},
   "outputs": [],
   "source": [
    "# Function to calculate the coordinates for a new box\n",
    "def calculate_coordinates(new_box, A, B, C, packed_boxes):\n",
    "    xi, yi, zi = 0, 0, 0\n",
    "    Px, Py, Pz = [], [], []\n",
    "    \n",
    "    for box in packed_boxes:\n",
    "        box_id, x, y, z = box\n",
    "        \n",
    "        # Check relationships from A, B, C chains\n",
    "        if A.index(new_box[0]) > A.index(box_id):\n",
    "            Px.append(box)\n",
    "        if B.index(new_box[0]) > B.index(box_id):\n",
    "            Py.append(box)\n",
    "        if C.index(new_box[0]) > C.index(box_id):\n",
    "            Pz.append(box)\n",
    "    \n",
    "    if Px:\n",
    "        xi = max(x + w for (_, x, _, _) in Px)\n",
    "    if Py:\n",
    "        yi = max(y + h for (_, _, y, _) in Py)\n",
    "    if Pz:\n",
    "        zi = max(z + d for (_, _, _, z) in Pz)\n",
    "    \n",
    "    return xi, yi, zi\n",
    "\n",
    "# Iterate through remaining boxes based on B-chain order\n",
    "for box_id in B[1:]:\n",
    "    new_box = [box for box in boxes if box[0] == box_id][0]\n",
    "    id, w, h, d = new_box\n",
    "    \n",
    "    # Calculate new coordinates based on A, B, C chains\n",
    "    xi, yi, zi = calculate_coordinates(new_box, A, B, C, packed_boxes)\n",
    "    \n",
    "    # Add new box coordinates to packed_boxes list\n",
    "    packed_boxes.append([id, xi, yi, zi])\n",
    "\n",
    "# Show the packed boxes with their coordinates\n",
    "for box in packed_boxes:\n",
    "    print(f\"Box ID: {box[0]}, Coordinates: ({box[1]}, {box[2]}, {box[3]})\")"
   ]
  }
 ],
 "metadata": {
  "environment": {
   "kernel": "",
   "name": "tf2-gpu.2-11.m108",
   "type": "gcloud",
   "uri": "gcr.io/deeplearning-platform-release/tf2-gpu.2-11:m108"
  },
  "kernelspec": {
   "display_name": "",
   "name": ""
  },
  "language_info": {
   "name": ""
  }
 },
 "nbformat": 4,
 "nbformat_minor": 5
}
